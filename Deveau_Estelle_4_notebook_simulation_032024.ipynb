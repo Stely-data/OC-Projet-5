{
 "cells": [
  {
   "cell_type": "markdown",
   "id": "9396ad01-8ec8-4bc3-aa6f-27afbc93f36b",
   "metadata": {},
   "source": [
    "<b><font color=\"SteelBlue\" size=\"+3\">Segmentez des clients d'un site e-commerce</font></b>"
   ]
  },
  {
   "cell_type": "markdown",
   "id": "20201c67-a89d-46aa-aed4-5491f53f3a6f",
   "metadata": {},
   "source": [
    "# Introduction"
   ]
  },
  {
   "cell_type": "markdown",
   "id": "75e0edc6-1917-41c8-848f-a799a9fd095f",
   "metadata": {},
   "source": [
    "Ce notebook la partie contrat de maintenance du projet pour OLIST."
   ]
  },
  {
   "cell_type": "markdown",
   "id": "3d6f711e-0e96-4c34-a585-ccff9d781978",
   "metadata": {},
   "source": [
    "## Imports"
   ]
  },
  {
   "cell_type": "code",
   "execution_count": 1,
   "id": "272960a6-d18c-41b1-95b7-1a090c79190c",
   "metadata": {},
   "outputs": [],
   "source": [
    "# Chargement des librairies\n",
    "# Builtin\n",
    "import os\n",
    "\n",
    "# Data\n",
    "import pandas as pd\n",
    "import numpy as np\n",
    "from sklearn.preprocessing import StandardScaler\n",
    "\n",
    "# Visualization\n",
    "import matplotlib.pyplot as plt\n",
    "import seaborn as sns\n",
    "\n",
    "# Clustering\n",
    "from sklearn.cluster import KMeans\n",
    "from sklearn.metrics import adjusted_rand_score"
   ]
  },
  {
   "cell_type": "markdown",
   "id": "4da01131-4fe4-4d1c-8571-b6a9cf299c20",
   "metadata": {},
   "source": [
    "## Data"
   ]
  },
  {
   "cell_type": "code",
   "execution_count": 2,
   "id": "4632abbc-3bd5-4c15-93c4-3dda4da5cec5",
   "metadata": {},
   "outputs": [
    {
     "data": {
      "text/plain": [
       "['.ipynb_checkpoints',\n",
       " 'Brazil_Regions.png',\n",
       " 'carte-bresil.jpg',\n",
       " 'Carte_bresil.png',\n",
       " 'data',\n",
       " 'Deveau_Estelle_1_script_032024.sql',\n",
       " 'Deveau_Estelle_2_notebook_exploration_032024.ipynb',\n",
       " 'Deveau_Estelle_3_notebook_essais_032024.ipynb',\n",
       " 'Deveau_Estelle_4_notebook_simulation_032024.ipynb',\n",
       " 'svg']"
      ]
     },
     "execution_count": 2,
     "metadata": {},
     "output_type": "execute_result"
    }
   ],
   "source": [
    "os.listdir()"
   ]
  },
  {
   "cell_type": "code",
   "execution_count": 3,
   "id": "fb1b6122-dccd-488a-aa03-ccbfc457a287",
   "metadata": {},
   "outputs": [
    {
     "data": {
      "text/plain": [
       "['Customer.csv',\n",
       " 'CustomerCategoryCounts.csv',\n",
       " 'CustomerPaymentPreferences.csv',\n",
       " 'periodes',\n",
       " 'Script-avec-periode.sql',\n",
       " 'Script_projet.sql',\n",
       " 'svg_scripts']"
      ]
     },
     "execution_count": 3,
     "metadata": {},
     "output_type": "execute_result"
    }
   ],
   "source": [
    "os.listdir(\"data/sources/\")"
   ]
  },
  {
   "cell_type": "code",
   "execution_count": 4,
   "id": "a775c456-63ea-4a34-a523-c65e0e9014c6",
   "metadata": {},
   "outputs": [
    {
     "data": {
      "text/plain": [
       "['Customer', 'Payment']"
      ]
     },
     "execution_count": 4,
     "metadata": {},
     "output_type": "execute_result"
    }
   ],
   "source": [
    "os.listdir(\"data/sources/periodes\")"
   ]
  },
  {
   "cell_type": "code",
   "execution_count": 5,
   "id": "dcf9041f-3ae2-4d39-83fb-73da98abc14a",
   "metadata": {},
   "outputs": [
    {
     "data": {
      "text/plain": [
       "['Customer_170101_180101.csv',\n",
       " 'Customer_170101_180115.csv',\n",
       " 'Customer_170101_180201.csv',\n",
       " 'Customer_170101_180215.csv',\n",
       " 'Customer_170101_180301.csv',\n",
       " 'Customer_170101_180315.csv',\n",
       " 'Customer_170101_180401.csv',\n",
       " 'Customer_170101_180415.csv',\n",
       " 'Customer_170101_180501.csv',\n",
       " 'Customer_170101_180515.csv',\n",
       " 'Customer_170101_180601.csv',\n",
       " 'Customer_170101_180615.csv',\n",
       " 'Customer_170101_180701.csv',\n",
       " 'Customer_170101_180715.csv',\n",
       " 'Customer_170101_180801.csv']"
      ]
     },
     "execution_count": 5,
     "metadata": {},
     "output_type": "execute_result"
    }
   ],
   "source": [
    "os.listdir(\"data/sources/periodes/Customer\")"
   ]
  },
  {
   "cell_type": "code",
   "execution_count": 6,
   "id": "42a0292e-f0f0-4e7c-a632-d10035c1226f",
   "metadata": {},
   "outputs": [
    {
     "data": {
      "text/plain": [
       "['CustomerPaymentPreferences_170101_180101.csv',\n",
       " 'CustomerPaymentPreferences_170101_180115.csv',\n",
       " 'CustomerPaymentPreferences_170101_180201.csv',\n",
       " 'CustomerPaymentPreferences_170101_180215.csv',\n",
       " 'CustomerPaymentPreferences_170101_180301.csv',\n",
       " 'CustomerPaymentPreferences_170101_180315.csv',\n",
       " 'CustomerPaymentPreferences_170101_180401.csv',\n",
       " 'CustomerPaymentPreferences_170101_180415.csv',\n",
       " 'CustomerPaymentPreferences_170101_180501.csv',\n",
       " 'CustomerPaymentPreferences_170101_180515.csv',\n",
       " 'CustomerPaymentPreferences_170101_180601.csv',\n",
       " 'CustomerPaymentPreferences_170101_180615.csv',\n",
       " 'CustomerPaymentPreferences_170101_180701.csv',\n",
       " 'CustomerPaymentPreferences_170101_180715.csv',\n",
       " 'CustomerPaymentPreferences_170101_180801.csv']"
      ]
     },
     "execution_count": 6,
     "metadata": {},
     "output_type": "execute_result"
    }
   ],
   "source": [
    "os.listdir(\"data/sources/periodes/Payment\")"
   ]
  },
  {
   "cell_type": "markdown",
   "id": "5bc5397f-8928-44b5-90c0-caa9d7d1e713",
   "metadata": {},
   "source": [
    "# Liste des fichiers"
   ]
  },
  {
   "cell_type": "code",
   "execution_count": 7,
   "id": "96da5e7b-aafd-458f-997e-5533f6b20af1",
   "metadata": {},
   "outputs": [],
   "source": [
    "pathCustomer = \"./data/sources/periodes/Customer\"\n",
    "pathPayment = \"./data/sources/periodes/Payment\""
   ]
  },
  {
   "cell_type": "code",
   "execution_count": 8,
   "id": "2c46f88f-5a79-4490-9c94-a6dea660daa6",
   "metadata": {},
   "outputs": [],
   "source": [
    "# Obtenir la liste des fichiers CSV dans chaque répertoire\n",
    "data_customer = sorted([os.path.join(pathCustomer, f) for f in os.listdir(pathCustomer) if f.endswith('.csv')])\n",
    "data_payment = sorted([os.path.join(pathPayment, f) for f in os.listdir(pathPayment) if f.endswith('.csv')])"
   ]
  },
  {
   "cell_type": "code",
   "execution_count": 9,
   "id": "fa8cd5bc-393f-47e0-aab9-e5b4e7c54220",
   "metadata": {},
   "outputs": [],
   "source": [
    "assert len(data_customer) == len(data_payment), \"Les répertoires doivent contenir le même nombre de fichiers CSV.\""
   ]
  },
  {
   "cell_type": "markdown",
   "id": "3aaff846-b76f-46f7-97f8-0c545734b7b9",
   "metadata": {},
   "source": [
    "# Prétraitement des données"
   ]
  },
  {
   "cell_type": "code",
   "execution_count": 10,
   "id": "f952107a-04e5-4373-b675-b67665c863f9",
   "metadata": {},
   "outputs": [],
   "source": [
    "def merge(df_customer, df_payment):\n",
    "    # Calculer la somme totale des paiements pour chaque client\n",
    "    total_payment_by_customer = df_payment.groupby('customer_unique_id')['TotalPaymentValue'].sum()\n",
    "\n",
    "    # Calculer la somme totale des échéances de paiement pour chaque client\n",
    "    total_installments_by_customer = df_payment.groupby('customer_unique_id')['TotalInstallments'].sum()\n",
    "\n",
    "    # Créer un DataFrame pour la somme totale des paiements et des échéances de paiement\n",
    "    total_by_customer = pd.concat([total_payment_by_customer, total_installments_by_customer], axis=1).reset_index()\n",
    "\n",
    "    # Pivot pour obtenir le pourcentage par type de paiement pour chaque client\n",
    "    df_payment_pivot = df_payment.pivot_table(index='customer_unique_id', \n",
    "                                              columns='payment_type', \n",
    "                                              values='TotalPaymentValue', \n",
    "                                              aggfunc='sum',\n",
    "                                              fill_value=0)\n",
    "\n",
    "    # Calculer les pourcentages de paiement pour chaque type\n",
    "    for col in df_payment_pivot.columns:\n",
    "        col_pct_name = f'{col}_pct'\n",
    "        df_payment_pivot[col_pct_name] = df_payment_pivot[col] / total_by_customer.set_index('customer_unique_id')['TotalPaymentValue'] * 100\n",
    "\n",
    "    # Ajouter les données totales au DataFrame pivoté\n",
    "    df_payment_pivot = df_payment_pivot.merge(total_by_customer, on='customer_unique_id')\n",
    "\n",
    "    # Fusionner df_customer avec les colonnes sélectionnées de df_payment_pivot\n",
    "    df_merged = pd.merge(df_customer,\n",
    "                         df_payment_pivot[['customer_unique_id','boleto_pct','credit_card_pct','debit_card_pct','voucher_pct',\n",
    "                                       'TotalPaymentValue','TotalInstallments']],\n",
    "                         on='customer_unique_id',\n",
    "                         how='left')\n",
    "\n",
    "    return df_merged"
   ]
  },
  {
   "cell_type": "code",
   "execution_count": 11,
   "id": "14970a30-adfc-454d-92f4-9b42c0601f40",
   "metadata": {},
   "outputs": [],
   "source": [
    "def nettoyage(data):\n",
    "    # Formats\n",
    "    data['FirstOrderDate'] = pd.to_datetime(data['FirstOrderDate'])\n",
    "    data['LastOrderDate'] = pd.to_datetime(data['LastOrderDate'])\n",
    "\n",
    "    # doublons\n",
    "    data = data.drop_duplicates(subset=[\"customer_unique_id\"])\n",
    "    data = data.drop_duplicates(subset=['FirstOrderDate','TotalSpent','customer_city'])\n",
    "\n",
    "    #print(f'Taille du dataframe après le nettoyage : {data.shape}')\n",
    "\n",
    "    return data\n"
   ]
  },
  {
   "cell_type": "code",
   "execution_count": 12,
   "id": "5870639c-a99f-4cf7-a538-4515b488058a",
   "metadata": {},
   "outputs": [],
   "source": [
    "def verification(data):\n",
    "    tolerance = 0.1\n",
    "    data = data.copy()\n",
    "\n",
    "    # Vérifier que la somme des pourcentages des sommes dépensées dans chaque catégorie est proche de 100%\n",
    "    data = data[(abs(data['boleto_pct'] + data['credit_card_pct'] + data['debit_card_pct'] + data['voucher_pct'] - 100) <= tolerance)]\n",
    "      \n",
    "    # Vérifier la cohérence entre la valeur totale des paiements et la somme de TotalSpent + TotalFreight\n",
    "    data['payment_difference'] = abs(data['TotalPaymentValue'] - (data['TotalSpent'] + data['TotalFreight']))\n",
    "    data = data[data['payment_difference'] <= data['TotalPaymentValue'] * tolerance]\n",
    "    \n",
    "    # Supprimer les lignes où 'AverageReviewScore' n'est pas compris entre 0 et 5\n",
    "    data = data.query(\"AverageReviewScore.isna() or (AverageReviewScore >= 0 and AverageReviewScore <= 5)\")\n",
    "    \n",
    "    # Supprimer les lignes où 'NumberOfComments' ou 'NumberOfCommentTitles' est supérieur à 'NumberOfReviews'\n",
    "    data = data.query(\"NumberOfComments <= NumberOfReviews and NumberOfCommentTitles <= NumberOfReviews\")\n",
    "    \n",
    "    # Remplacer les valeurs de 'DifferentCategories' égales à 0 par 1\n",
    "    data.loc[data['DifferentCategories'] == 0, 'DifferentCategories'] = 1\n",
    "\n",
    "    # Suppression des colonnes qui ne servaient qu'à la verification des données\n",
    "    data = data.drop(columns=['TotalPaymentValue'])\n",
    "\n",
    "    #print(f'Taille du dataframe après la vérification : {data.shape}')\n",
    "\n",
    "    return data"
   ]
  },
  {
   "cell_type": "code",
   "execution_count": 13,
   "id": "53d4737e-2951-4fd4-abef-2154261ef844",
   "metadata": {},
   "outputs": [],
   "source": [
    "def completion(data):\n",
    "    # Supprimer les lignes où la colonne 'AvgWeight' est NaN\n",
    "    data = data.dropna(subset=['AvgWeight'])\n",
    "    #data['AvgWeight'] = data['AvgWeight'].fillna(0)\n",
    "\n",
    "    #print(f'Taille du dataframe après la complétion : {data.shape}')\n",
    "\n",
    "    return data"
   ]
  },
  {
   "cell_type": "code",
   "execution_count": 14,
   "id": "9fdd0965-b799-4db4-8b53-2ba70401149f",
   "metadata": {},
   "outputs": [],
   "source": [
    "def features(df, featureslist):\n",
    "    #print(df.columns.tolist())\n",
    "    df = df.copy()\n",
    "    \n",
    "    # Recence\n",
    "    reference_date = df['LastOrderDate'].max()\n",
    "    df['Recency'] = (reference_date - df['LastOrderDate']).dt.days\n",
    "\n",
    "    # Frequence\n",
    "    df['Frequency'] = df['TotalOrders']\n",
    "\n",
    "    # Montant (= panier moyen)\n",
    "    df['TotalAmount'] = df['TotalSpent'] + df['TotalFreight']\n",
    "    df['AvgBasket'] = df['TotalAmount']/df['TotalOrders']\n",
    "\n",
    "    # Calcul de l'indice d'engagement en fonction des commentaires\n",
    "    df['EngagementIndex'] = (0.5 * df['NumberOfReviews'] + 0.25 * df['NumberOfCommentTitles'] + 0.25 * df['NumberOfComments']\n",
    "                            ) / (df['nb_item'])\n",
    "\n",
    "    df = df[['customer_unique_id'] + featureslist]\n",
    "    \n",
    "    #print(f'Taille du dataframe après le feature engineering : {df.shape}')\n",
    "\n",
    "    return df"
   ]
  },
  {
   "cell_type": "code",
   "execution_count": 15,
   "id": "e86fddc7-413e-4ecb-85f5-4b4b40c0a50e",
   "metadata": {},
   "outputs": [],
   "source": [
    "standard_scaler = StandardScaler()\n",
    "\n",
    "def scale(data):\n",
    "    # Définir 'customer_unique_id' comme l'index du DataFrame\n",
    "    data = data.set_index('customer_unique_id')\n",
    "    \n",
    "    scaled_data = pd.DataFrame(standard_scaler.fit_transform(data), index=data.index, columns=data.columns)\n",
    "    \n",
    "    return scaled_data"
   ]
  },
  {
   "cell_type": "code",
   "execution_count": 16,
   "id": "86018c2b-a7fc-4c2c-986a-dd15b525935b",
   "metadata": {},
   "outputs": [],
   "source": [
    "def traitement(file_cutomer, file_payment, featureslist):\n",
    "    df_merged = merge(file_cutomer, file_payment)\n",
    "    df_cleaned = nettoyage(df_merged)\n",
    "    df_verified = verification(df_cleaned)\n",
    "    df_completed = completion(df_verified)\n",
    "    df_featured = features(df_completed, featureslist)\n",
    "    df_scaled = scale(df_featured)\n",
    "    \n",
    "    #print(f'Taille du dataframe après le traitement des données : {df_featured.shape}')\n",
    "\n",
    "    return df_scaled"
   ]
  },
  {
   "cell_type": "markdown",
   "id": "5d5f96f8-6ad3-4cb2-a0c1-043b4bdadfae",
   "metadata": {},
   "source": [
    "# ARI"
   ]
  },
  {
   "cell_type": "markdown",
   "id": "6719c187-fae6-46a9-998b-8abd21c1be4d",
   "metadata": {},
   "source": [
    "## Sans reentrainement"
   ]
  },
  {
   "cell_type": "code",
   "execution_count": 86,
   "id": "a596089a-6992-4653-821e-aa0ab1ec9057",
   "metadata": {},
   "outputs": [],
   "source": [
    "# Calcul ARI\n",
    "def ari_calc_retrain(customer_files, payment_files, retrain_period):\n",
    "\n",
    "    # On commence à 1.0 pour la première période\n",
    "    ari_scores = []\n",
    "\n",
    "\n",
    "    # liste des features\n",
    "    features = [ 'Recency', 'Frequency', 'AvgBasket', 'nb_item', 'AverageReviewScore', 'EngagementIndex', 'ActualDeliveryTime', \n",
    "               'EstimatedActualDifference', 'AvgWeight', 'TotalInstallments', 'boleto_pct', 'voucher_pct']\n",
    "    \n",
    "    # Initialiser KMeans une seule fois avec le nombre de clusters déterminé\n",
    "    kmeans = KMeans(n_clusters=9, random_state=42,n_init=10)\n",
    "    customer_labels_first_period = {} \n",
    "\n",
    "    # Condition initiale pour le ré-entraînement\n",
    "    should_retrain = True if retrain_period != -1 else False\n",
    "    \n",
    "    for i, (file_customer, file_payment) in enumerate(zip(customer_files, payment_files)):\n",
    "        # Charger les fichiers CSV\n",
    "        df_customer = pd.read_csv(file_customer)\n",
    "        df_payment = pd.read_csv(file_payment)\n",
    "        \n",
    "        # Prétraitement\n",
    "        data = traitement(df_customer, df_payment, features)  \n",
    "        #data.set_index('customer_unique_id', inplace=True)  \n",
    "\n",
    "        if i == 0 or (should_retrain and i % retrain_period == 0):\n",
    "            # Entraîner KMeans sur la première période\n",
    "            kmeans.fit(data[features])\n",
    "            # identifiant des client p1\n",
    "            customer_ids_first_period = set(data.index)  \n",
    "            # Stockage des labels de la première période\n",
    "            customer_labels_first_period = {idx: lbl for idx, lbl in zip(data.index, kmeans.labels_)}\n",
    "            ari_scores.append(1.0)\n",
    "        else:\n",
    "            # Filtrer pour ne garder que les clients présents lors de la première période\n",
    "            data_common = data.loc[data.index.isin(customer_ids_first_period)].copy()\n",
    "            # prediction si reentrainement\n",
    "            predicted_clusters = kmeans.predict(data_common[features])\n",
    "            # Filtrer labels_de_reference pour ne garder que ceux correspondant aux clients communs\n",
    "            labels_de_reference = [customer_labels_first_period[idx] for idx in data_common.index if idx in customer_labels_first_period]\n",
    "            # Calcul de l'ARI\n",
    "            ari = adjusted_rand_score(labels_de_reference, predicted_clusters)\n",
    "            ari_scores.append(ari)\n",
    "    \n",
    "    return ari_scores\n"
   ]
  },
  {
   "cell_type": "code",
   "execution_count": 87,
   "id": "53fb4aef-2794-40f2-a447-104dbd39405d",
   "metadata": {},
   "outputs": [
    {
     "data": {
      "text/plain": [
       "[1.0,\n",
       " 0.9436108655680427,\n",
       " 0.8770572623185264,\n",
       " 0.8332862056194202,\n",
       " 0.7808504691054889,\n",
       " 0.734386750079927,\n",
       " 0.6880605586465735,\n",
       " 0.6563938701946584,\n",
       " 0.6270099642173933,\n",
       " 0.5995686630358056,\n",
       " 0.5806689319435129,\n",
       " 0.566706925733659,\n",
       " 0.5540956749283781,\n",
       " 0.545966732953086,\n",
       " 0.534522581417026]"
      ]
     },
     "execution_count": 87,
     "metadata": {},
     "output_type": "execute_result"
    }
   ],
   "source": [
    "ari_scores = ari_calc_retrain(data_customer, data_payment, -1)\n",
    "ari_scores"
   ]
  },
  {
   "cell_type": "code",
   "execution_count": 88,
   "id": "19cfecea-8eca-404a-abef-e7aeccbe2b3d",
   "metadata": {},
   "outputs": [
    {
     "data": {
      "image/png": "[encoded data removed]",
      "text/plain": [
       "<Figure size 640x480 with 1 Axes>"
      ]
     },
     "metadata": {},
     "output_type": "display_data"
    }
   ],
   "source": [
    "# Affichage de la courbe ARI\n",
    "plt.plot(ari_scores, marker='o', linestyle='-')\n",
    "plt.title('Evolution du score ARI au fil du temps')\n",
    "plt.xlabel('Période')\n",
    "plt.ylabel('Score ARI')\n",
    "plt.xticks(range(len(ari_scores)), ['010117-010118', '010117-150118', '010117-010218', '010117-150218',\n",
    "                                    '010117-010318', '010117-150318', '010117-010418', '010117-150418',\n",
    "                                    '010117-010518', '010117-150518', '010117-010618', '010117-150618',\n",
    "                                    '010117-010718', '010117-150718', '010117-010818'], rotation=45, ha='right') \n",
    "plt.grid(True)\n",
    "plt.show()"
   ]
  },
  {
   "cell_type": "markdown",
   "id": "05b9a495-f1b3-4a6a-ba8d-ac042d76ec5b",
   "metadata": {},
   "source": [
    "## Réentrainement tous les 2 mois"
   ]
  },
  {
   "cell_type": "code",
   "execution_count": 89,
   "id": "b78698f7-8f39-41fd-9345-31366344f83a",
   "metadata": {},
   "outputs": [],
   "source": [
    "ari_scores = ari_calc_retrain(data_customer, data_payment, 4)"
   ]
  },
  {
   "cell_type": "code",
   "execution_count": 90,
   "id": "e6c004f9-7f8b-4f8d-b487-236fa53a3830",
   "metadata": {},
   "outputs": [
    {
     "data": {
      "text/plain": [
       "[1.0,\n",
       " 0.9436108655680427,\n",
       " 0.8770572623185264,\n",
       " 0.8332862056194202,\n",
       " 1.0,\n",
       " 0.9605859664245961,\n",
       " 0.9064751674719471,\n",
       " 0.8715836312726185,\n",
       " 1.0,\n",
       " 0.9659894708310099,\n",
       " 0.9389833909405136,\n",
       " 0.9142548400446807,\n",
       " 1.0,\n",
       " 0.980747007677049,\n",
       " 0.946213093111236]"
      ]
     },
     "execution_count": 90,
     "metadata": {},
     "output_type": "execute_result"
    }
   ],
   "source": [
    "ari_scores"
   ]
  },
  {
   "cell_type": "code",
   "execution_count": 91,
   "id": "4e6ba766-dbf6-4e5a-8d59-ccdf01a24ccf",
   "metadata": {},
   "outputs": [
    {
     "data": {
      "image/png": "[encoded data removed]",
      "text/plain": [
       "<Figure size 640x480 with 1 Axes>"
      ]
     },
     "metadata": {},
     "output_type": "display_data"
    }
   ],
   "source": [
    "# Affichage de la courbe ARI\n",
    "plt.plot(ari_scores, marker='o', linestyle='-')\n",
    "plt.title('Evolution du score ARI au fil du temps')\n",
    "plt.xlabel('Période')\n",
    "plt.ylabel('Score ARI')\n",
    "plt.xticks(range(len(ari_scores)), ['010117-010118', '010117-150118', '010117-010218', '010117-150218',\n",
    "                                    '010117-010318', '010117-150318', '010117-010418', '010117-150418',\n",
    "                                    '010117-010518', '010117-150518', '010117-010618', '010117-150618',\n",
    "                                    '010117-010718', '010117-150718', '010117-010818'], rotation=45, ha='right') \n",
    "plt.grid(True)\n",
    "plt.show()"
   ]
  },
  {
   "cell_type": "code",
   "execution_count": null,
   "id": "99c61cb6-9cfa-4ba2-aaaf-6cda00f19b24",
   "metadata": {},
   "outputs": [],
   "source": []
  },
  {
   "cell_type": "code",
   "execution_count": null,
   "id": "19c62f2e-b433-4634-a043-fb8bf6b5df20",
   "metadata": {},
   "outputs": [],
   "source": []
  },
  {
   "cell_type": "code",
   "execution_count": null,
   "id": "ecb1839a-6795-4205-a18f-f5e4797d3ae7",
   "metadata": {},
   "outputs": [],
   "source": []
  }
 ],
 "metadata": {
  "kernelspec": {
   "display_name": "Python 3 (ipykernel)",
   "language": "python",
   "name": "python3"
  },
  "language_info": {
   "codemirror_mode": {
    "name": "ipython",
    "version": 3
   },
   "file_extension": ".py",
   "mimetype": "text/x-python",
   "name": "python",
   "nbconvert_exporter": "python",
   "pygments_lexer": "ipython3",
   "version": "3.12.0"
  }
 },
 "nbformat": 4,
 "nbformat_minor": 5
}
